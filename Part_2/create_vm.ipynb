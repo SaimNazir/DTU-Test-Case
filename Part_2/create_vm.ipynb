{
 "cells": [
  {
   "cell_type": "code",
   "execution_count": 53,
   "metadata": {},
   "outputs": [],
   "source": [
    "import os\n",
    "import io\n",
    "\n",
    "from azure.identity import DefaultAzureCredential\n",
    "from azure.mgmt.network import NetworkManagementClient\n",
    "from azure.mgmt.compute import ComputeManagementClient\n",
    "from azure.core.exceptions import ResourceExistsError\n",
    "\n",
    "from dotenv import load_dotenv\n",
    "import pandas as pd"
   ]
  },
  {
   "cell_type": "code",
   "execution_count": 37,
   "metadata": {},
   "outputs": [],
   "source": [
    "load_dotenv('../.env')\n",
    "\n",
    "tenant_id = os.environ['TENANT_ID']\n",
    "subscription_id = os.environ[\"AZURE_SUBSCRIPTION_ID\"]\n",
    "container = \"raw\"\n",
    "blob = \"tourism_dataset.csv\"\n",
    "\n",
    "credential = DefaultAzureCredential(authority=f\"https://login.microsoftonline.com/{tenant_id}\")\n",
    "\n",
    "RESOURCE_GROUP_NAME = \"Data_Engineer\"\n",
    "LOCATION = \"westeurope\"\n",
    "NSG_NAME = \"saim-nsg\"\n",
    "VNET_NAME = \"saim-nazir-vnet\"\n",
    "SUBNET_NAME = \"saim-subnet\"\n",
    "IP_NAME = \"saim-ip\"\n",
    "IP_CONFIG_NAME = \"saim-ip-config\"\n",
    "NIC_NAME = \"saim-nic\"\n",
    "VM_NAME = \"VM-Saim\"\n",
    "USERNAME = \"Saim\"\n",
    "PASSWORD = os.environ[\"PASSWORD\"]"
   ]
  },
  {
   "cell_type": "code",
   "execution_count": 19,
   "metadata": {},
   "outputs": [],
   "source": [
    "# Obtain the management object for networks\n",
    "network_client = NetworkManagementClient(credential, subscription_id)\n",
    "compute_client = ComputeManagementClient(credential, subscription_id)"
   ]
  },
  {
   "cell_type": "code",
   "execution_count": 7,
   "metadata": {},
   "outputs": [
    {
     "name": "stdout",
     "output_type": "stream",
     "text": [
      "Provisioned virtual network saim-vnet with address prefixes ['10.0.0.0/16']\n"
     ]
    }
   ],
   "source": [
    "# Provision the virtual network and wait for completion\n",
    "poller = network_client.virtual_networks.begin_create_or_update(\n",
    "    RESOURCE_GROUP_NAME,\n",
    "    VNET_NAME,\n",
    "    {\n",
    "        \"location\": LOCATION,\n",
    "        \"address_space\": {\"address_prefixes\": [\"10.0.0.0/16\"]},\n",
    "    },\n",
    ")\n",
    "\n",
    "vnet_result = poller.result()\n",
    "\n",
    "print(\n",
    "    f\"Provisioned virtual network {vnet_result.name} with address \\\n",
    "prefixes {vnet_result.address_space.address_prefixes}\"\n",
    ")"
   ]
  },
  {
   "cell_type": "code",
   "execution_count": 16,
   "metadata": {},
   "outputs": [
    {
     "name": "stdout",
     "output_type": "stream",
     "text": [
      "Creating Network Security Group saim-nsg...\n",
      "Network Security Group saim-nsg has been created.\n"
     ]
    }
   ],
   "source": [
    "# Create a NSG since DTU has a policy: \"Subnets should have a Network Security Group\",\n",
    "\n",
    "print(f\"Creating Network Security Group {NSG_NAME}...\")\n",
    "nsg_params = {\n",
    "    \"location\": LOCATION,\n",
    "    \"security_rules\": [\n",
    "        {\n",
    "            \"name\": \"allow_ssh\",\n",
    "            \"protocol\": \"Tcp\",\n",
    "            \"source_address_prefix\": \"*\",\n",
    "            \"source_port_range\": \"*\",\n",
    "            \"destination_address_prefix\": \"*\",\n",
    "            \"destination_port_range\": \"22\",\n",
    "            \"access\": \"Allow\",\n",
    "            \"priority\": 1000,\n",
    "            \"direction\": \"Inbound\",\n",
    "        }\n",
    "    ],\n",
    "}\n",
    "nsg_poller = network_client.network_security_groups.begin_create_or_update(\n",
    "    RESOURCE_GROUP_NAME,\n",
    "    NSG_NAME,\n",
    "    nsg_params\n",
    "    \n",
    ")\n",
    "nsg_result = nsg_poller.result()\n",
    "print(f\"Network Security Group {nsg_result.name} has been created.\")"
   ]
  },
  {
   "cell_type": "code",
   "execution_count": 17,
   "metadata": {},
   "outputs": [
    {
     "name": "stdout",
     "output_type": "stream",
     "text": [
      "Provisioning subnet saim-subnet...\n",
      "Provisioned subnet saim-subnet\n"
     ]
    }
   ],
   "source": [
    "print(f\"Provisioning subnet {SUBNET_NAME}...\")\n",
    "subnet_params = {\n",
    "    \"address_prefix\": \"10.0.0.0/24\",\n",
    "    \"service_endpoints\": [{\"service\": \"Microsoft.Storage\"}],\n",
    "    \"network_security_group\": {\"id\": nsg_result.id},\n",
    "}\n",
    "subnet_poller = network_client.subnets.begin_create_or_update(\n",
    "    RESOURCE_GROUP_NAME,\n",
    "    VNET_NAME,\n",
    "    SUBNET_NAME,\n",
    "    subnet_params\n",
    ")\n",
    "subnet_result = subnet_poller.result()\n",
    "print(f\"Provisioned subnet {subnet_result.name}\")"
   ]
  },
  {
   "cell_type": "code",
   "execution_count": 58,
   "metadata": {},
   "outputs": [
    {
     "name": "stdout",
     "output_type": "stream",
     "text": [
      "Public IP address saim-ip has been created.\n"
     ]
    }
   ],
   "source": [
    "public_ip_params = {\n",
    "    \"location\": LOCATION,\n",
    "    \"public_ip_allocation_method\": \"Static\",\n",
    "    \"sku\": {\n",
    "        \"name\": \"Standard\"\n",
    "    }\n",
    "}\n",
    "public_ip_poller = network_client.public_ip_addresses.begin_create_or_update(\n",
    "    RESOURCE_GROUP_NAME,\n",
    "    IP_NAME,\n",
    "    public_ip_params\n",
    ")\n",
    "public_ip_result = public_ip_poller.result()\n",
    "print(f\"Public IP address {public_ip_result.name} has been created.\")"
   ]
  },
  {
   "cell_type": "code",
   "execution_count": 59,
   "metadata": {},
   "outputs": [
    {
     "name": "stdout",
     "output_type": "stream",
     "text": [
      "Provisioning network interface saim-nic...\n",
      "Provisioned network interface saim-nic\n"
     ]
    }
   ],
   "source": [
    "# Step 4: Provision the network interface\n",
    "print(f\"Provisioning network interface {NIC_NAME}...\")\n",
    "nic_params = {\n",
    "    \"location\": LOCATION,\n",
    "    \"ip_configurations\": [\n",
    "        {\n",
    "            \"name\": \"ipconfig1\",\n",
    "            \"subnet\": {\"id\": subnet_result.id},\n",
    "            \"public_ip_address\": {\"id\": public_ip_result.id}\n",
    "        }\n",
    "    ],\n",
    "}\n",
    "nic_poller = network_client.network_interfaces.begin_create_or_update(\n",
    "    RESOURCE_GROUP_NAME,\n",
    "    NIC_NAME,\n",
    "    nic_params\n",
    ")\n",
    "nic_result = nic_poller.result()\n",
    "print(f\"Provisioned network interface {nic_result.name}\")"
   ]
  },
  {
   "cell_type": "code",
   "execution_count": 26,
   "metadata": {},
   "outputs": [
    {
     "name": "stdout",
     "output_type": "stream",
     "text": [
      "Provisioning virtual machine VM-Saim; this operation might take a few minutes.\n",
      "Provisioned virtual machine VM-Saim\n"
     ]
    }
   ],
   "source": [
    "# Step 5: Provision the virtual machine\n",
    "print(f\"Provisioning virtual machine {VM_NAME}; this operation might take a few minutes.\")\n",
    "vm_params = {\n",
    "    \"location\": LOCATION,\n",
    "    \"storage_profile\": {\n",
    "        \"image_reference\": {\n",
    "            \"publisher\": \"Canonical\",\n",
    "            \"offer\": \"UbuntuServer\",\n",
    "            \"sku\": \"18.04-LTS\",\n",
    "            \"version\": \"latest\",\n",
    "        }\n",
    "    },\n",
    "    \"hardware_profile\": {\"vm_size\": \"Standard_DS1_v2\"},\n",
    "    \"os_profile\": {\n",
    "        \"computer_name\": VM_NAME,\n",
    "        \"admin_username\": USERNAME,\n",
    "        \"admin_password\": PASSWORD,\n",
    "    },\n",
    "    \"network_profile\": {\n",
    "        \"network_interfaces\": [\n",
    "            {\n",
    "                \"id\": nic_result.id,\n",
    "            }\n",
    "        ]\n",
    "    },\n",
    "}\n",
    "vm_poller = compute_client.virtual_machines.begin_create_or_update(\n",
    "    RESOURCE_GROUP_NAME,\n",
    "    VM_NAME,\n",
    "    vm_params\n",
    ")\n",
    "vm_result = vm_poller.result()\n",
    "print(f\"Provisioned virtual machine {vm_result.name}\")"
   ]
  },
  {
   "cell_type": "markdown",
   "metadata": {},
   "source": [
    "## Step 2: Read Data from Azure Storage Account"
   ]
  },
  {
   "cell_type": "code",
   "execution_count": 30,
   "metadata": {},
   "outputs": [],
   "source": [
    "from azure.storage.blob import BlobServiceClient\n",
    "\n",
    "account_name = \"dataengineerv1\"\n",
    "\n",
    "storage_account_url = f\"https://{account_name}.blob.core.windows.net/\"\n",
    "\n",
    "\n",
    "blob_service_client = BlobServiceClient(account_url=storage_account_url, credential=credential)\n",
    "\n"
   ]
  },
  {
   "cell_type": "code",
   "execution_count": 39,
   "metadata": {},
   "outputs": [],
   "source": [
    "blob_client = blob_service_client.get_blob_client(container=container, blob=blob)\n",
    "\n",
    "# Download the CSV file as bytes\n",
    "downloaded_blob = blob_client.download_blob()\n",
    "\n",
    "csv_content = downloaded_blob.content_as_text()\n",
    "\n",
    "# Use io.StringIO to read the CSV content as a DataFrame\n",
    "df = pd.read_csv(io.StringIO(csv_content))"
   ]
  },
  {
   "cell_type": "code",
   "execution_count": 40,
   "metadata": {},
   "outputs": [
    {
     "data": {
      "text/html": [
       "<div>\n",
       "<style scoped>\n",
       "    .dataframe tbody tr th:only-of-type {\n",
       "        vertical-align: middle;\n",
       "    }\n",
       "\n",
       "    .dataframe tbody tr th {\n",
       "        vertical-align: top;\n",
       "    }\n",
       "\n",
       "    .dataframe thead th {\n",
       "        text-align: right;\n",
       "    }\n",
       "</style>\n",
       "<table border=\"1\" class=\"dataframe\">\n",
       "  <thead>\n",
       "    <tr style=\"text-align: right;\">\n",
       "      <th></th>\n",
       "      <th>Location</th>\n",
       "      <th>Country</th>\n",
       "      <th>Category</th>\n",
       "      <th>Visitors</th>\n",
       "      <th>Rating</th>\n",
       "      <th>Revenue</th>\n",
       "      <th>Accommodation_Available</th>\n",
       "    </tr>\n",
       "  </thead>\n",
       "  <tbody>\n",
       "    <tr>\n",
       "      <th>0</th>\n",
       "      <td>kuBZRkVsAR</td>\n",
       "      <td>India</td>\n",
       "      <td>Nature</td>\n",
       "      <td>948853</td>\n",
       "      <td>1.32</td>\n",
       "      <td>84388.38</td>\n",
       "      <td>Yes</td>\n",
       "    </tr>\n",
       "    <tr>\n",
       "      <th>1</th>\n",
       "      <td>aHKUXhjzTo</td>\n",
       "      <td>USA</td>\n",
       "      <td>Historical</td>\n",
       "      <td>813627</td>\n",
       "      <td>2.01</td>\n",
       "      <td>802625.60</td>\n",
       "      <td>No</td>\n",
       "    </tr>\n",
       "    <tr>\n",
       "      <th>2</th>\n",
       "      <td>dlrdYtJFTA</td>\n",
       "      <td>Brazil</td>\n",
       "      <td>Nature</td>\n",
       "      <td>508673</td>\n",
       "      <td>1.42</td>\n",
       "      <td>338777.11</td>\n",
       "      <td>Yes</td>\n",
       "    </tr>\n",
       "    <tr>\n",
       "      <th>3</th>\n",
       "      <td>DxmlzdGkHK</td>\n",
       "      <td>Brazil</td>\n",
       "      <td>Historical</td>\n",
       "      <td>623329</td>\n",
       "      <td>1.09</td>\n",
       "      <td>295183.60</td>\n",
       "      <td>Yes</td>\n",
       "    </tr>\n",
       "    <tr>\n",
       "      <th>4</th>\n",
       "      <td>WJCCQlepnz</td>\n",
       "      <td>France</td>\n",
       "      <td>Cultural</td>\n",
       "      <td>124867</td>\n",
       "      <td>1.43</td>\n",
       "      <td>547893.24</td>\n",
       "      <td>No</td>\n",
       "    </tr>\n",
       "  </tbody>\n",
       "</table>\n",
       "</div>"
      ],
      "text/plain": [
       "     Location Country    Category  Visitors  Rating    Revenue  \\\n",
       "0  kuBZRkVsAR   India      Nature    948853    1.32   84388.38   \n",
       "1  aHKUXhjzTo     USA  Historical    813627    2.01  802625.60   \n",
       "2  dlrdYtJFTA  Brazil      Nature    508673    1.42  338777.11   \n",
       "3  DxmlzdGkHK  Brazil  Historical    623329    1.09  295183.60   \n",
       "4  WJCCQlepnz  France    Cultural    124867    1.43  547893.24   \n",
       "\n",
       "  Accommodation_Available  \n",
       "0                     Yes  \n",
       "1                      No  \n",
       "2                     Yes  \n",
       "3                     Yes  \n",
       "4                      No  "
      ]
     },
     "execution_count": 40,
     "metadata": {},
     "output_type": "execute_result"
    }
   ],
   "source": [
    "df.head()"
   ]
  },
  {
   "cell_type": "markdown",
   "metadata": {},
   "source": [
    "## Step 3: Perform Data Analysis"
   ]
  },
  {
   "cell_type": "code",
   "execution_count": 45,
   "metadata": {},
   "outputs": [
    {
     "name": "stdout",
     "output_type": "stream",
     "text": [
      "Average Rating by Country: \n",
      "\n",
      "     Country  Average_Rating\n",
      "0  Australia        3.019602\n",
      "1     Brazil        3.074167\n",
      "2      China        2.958648\n",
      "3      Egypt        3.024298\n",
      "4     France        3.030268\n",
      "5      India        2.973158\n",
      "6        USA        2.984304\n"
     ]
    },
    {
     "data": {
      "text/plain": [
       "'     SELECT Country, AVG(Rating) AS Average_Rating\\n        FROM tourism_dataset\\n        GROUP BY Country;\\n'"
      ]
     },
     "execution_count": 45,
     "metadata": {},
     "output_type": "execute_result"
    }
   ],
   "source": [
    "# Group the data by 'Country' and calculate the average value of the 'Rating' column\n",
    "country_grouped = df.groupby('Country')['Rating'].mean().reset_index()\n",
    "\n",
    "# Rename the column for clarity\n",
    "country_grouped.columns = ['Country', 'Average_Rating']\n",
    "\n",
    "print(\"Average Rating by Country:\", \"\\n\")\n",
    "print(country_grouped)\n",
    "\n",
    "# Equivalent PostgreSQL query:\n",
    "\"\"\"     SELECT Country, AVG(Rating) AS Average_Rating\n",
    "        FROM tourism_dataset\n",
    "        GROUP BY Country;\n",
    "\"\"\""
   ]
  },
  {
   "cell_type": "code",
   "execution_count": 46,
   "metadata": {},
   "outputs": [
    {
     "name": "stdout",
     "output_type": "stream",
     "text": [
      "\n",
      "Top 3 Categories with Highest Average Rating: \n",
      "\n",
      "     Category    Rating\n",
      "1       Beach  3.072285\n",
      "0   Adventure  3.008804\n",
      "3  Historical  3.003139\n"
     ]
    },
    {
     "data": {
      "text/plain": [
       "'     SELECT Category, AVG(Rating) AS Average_Rating\\n        FROM tourism_dataset\\n        GROUP BY Category\\n        ORDER BY Average_Rating DESC\\n        LIMIT 3;\\n'"
      ]
     },
     "execution_count": 46,
     "metadata": {},
     "output_type": "execute_result"
    }
   ],
   "source": [
    "\n",
    "# Group the data by 'Category' and calculate the average value of the 'Rating' column\n",
    "category_grouped = df.groupby('Category')['Rating'].mean().reset_index()\n",
    "\n",
    "# Sort the categories by average rating in descending order and select the top 3\n",
    "top_categories = category_grouped.sort_values(by='Rating', ascending=False).head(3)\n",
    "\n",
    "print(\"\\nTop 3 Categories with Highest Average Rating:\", \"\\n\")\n",
    "print(top_categories)\n",
    "\n",
    "# Equivalent PostgreSQL query:\n",
    "\"\"\"     SELECT Category, AVG(Rating) AS Average_Rating\n",
    "        FROM tourism_dataset\n",
    "        GROUP BY Category\n",
    "        ORDER BY Average_Rating DESC\n",
    "        LIMIT 3;\n",
    "\"\"\"\n"
   ]
  },
  {
   "cell_type": "markdown",
   "metadata": {},
   "source": [
    "## Step 4: Export Results and Save to VM"
   ]
  },
  {
   "cell_type": "code",
   "execution_count": 50,
   "metadata": {},
   "outputs": [],
   "source": [
    "with open('Saim-Nazir.csv', 'w') as f:\n",
    "    f.write(\"Country Average Rates\\n\")\n",
    "    country_grouped.to_csv(f, index=False)\n",
    "    \n",
    "    f.write(\"\\n\")\n",
    "\n",
    "    f.write(\"Top 3 Categories by Average Rate\\n\")\n",
    "    top_categories.to_csv(f, index=False)"
   ]
  },
  {
   "cell_type": "code",
   "execution_count": 56,
   "metadata": {},
   "outputs": [],
   "source": [
    "container_name = \"saim-nazir\"\n",
    "file_name = 'Saim-Nazir.csv'\n",
    "\n",
    "#container_client = blob_service_client.create_container(name=container_name)\n",
    "\n",
    "file_path = os.path.join(os.getcwd(), file_name) \n",
    "\n",
    "blob_client = blob_service_client.get_blob_client(container=container_name, blob=file_name)\n",
    "\n",
    "with open(file_path, \"rb\") as data:\n",
    "    blob_client.upload_blob(data, overwrite=True)"
   ]
  },
  {
   "cell_type": "code",
   "execution_count": 61,
   "metadata": {},
   "outputs": [
    {
     "data": {
      "text/plain": [
       "'Bash commands to SSH and download to VM'"
      ]
     },
     "execution_count": 61,
     "metadata": {},
     "output_type": "execute_result"
    }
   ],
   "source": [
    "\"\"\"Bash commands to SSH into VM and download CSV file using Azure CLI\"\"\"\n",
    "\n",
    "# https://learn.microsoft.com/en-us/azure/virtual-machines/linux-vm-connect?source=recommendations&tabs=Linux\n",
    "\n",
    "#ssh-keygen \n",
    "#cd .ssh  \n",
    "\n",
    "# Configure VM in Portal. Added private key path under VM-Saim | Connect > Native SSH\n",
    "\n",
    "#sudo chmod 400 id_rsa    \n",
    "#ssh -i id_rsa Saim@40.68.255.252\n",
    "\n",
    "\n",
    "# curl -sL https://aka.ms/InstallAzureCLIDeb | sudo bash\n",
    "# az login\n",
    "# az storage blob download  --account-name dataengineerv1 --account-key \"\" -container-name saim-nazir --blob-name result-Saim.csv     --file Saim-Nazir.csv"
   ]
  }
 ],
 "metadata": {
  "kernelspec": {
   "display_name": "dtu_env",
   "language": "python",
   "name": "python3"
  },
  "language_info": {
   "codemirror_mode": {
    "name": "ipython",
    "version": 3
   },
   "file_extension": ".py",
   "mimetype": "text/x-python",
   "name": "python",
   "nbconvert_exporter": "python",
   "pygments_lexer": "ipython3",
   "version": "3.10.12"
  }
 },
 "nbformat": 4,
 "nbformat_minor": 2
}
