{
 "cells": [
  {
   "cell_type": "code",
   "execution_count": 9,
   "metadata": {},
   "outputs": [],
   "source": [
    "import pandas as pd\n",
    "import numpy as np\n",
    "import datetime\n",
    "import time\n",
    "import multiprocessing as mp"
   ]
  },
  {
   "cell_type": "code",
   "execution_count": 4,
   "metadata": {},
   "outputs": [
    {
     "name": "stdout",
     "output_type": "stream",
     "text": [
      "(2000000, 1)\n"
     ]
    },
    {
     "data": {
      "text/html": [
       "<div>\n",
       "<style scoped>\n",
       "    .dataframe tbody tr th:only-of-type {\n",
       "        vertical-align: middle;\n",
       "    }\n",
       "\n",
       "    .dataframe tbody tr th {\n",
       "        vertical-align: top;\n",
       "    }\n",
       "\n",
       "    .dataframe thead th {\n",
       "        text-align: right;\n",
       "    }\n",
       "</style>\n",
       "<table border=\"1\" class=\"dataframe\">\n",
       "  <thead>\n",
       "    <tr style=\"text-align: right;\">\n",
       "      <th></th>\n",
       "      <th>Dates</th>\n",
       "    </tr>\n",
       "  </thead>\n",
       "  <tbody>\n",
       "    <tr>\n",
       "      <th>0</th>\n",
       "      <td>1993-12-09 01:00:00</td>\n",
       "    </tr>\n",
       "    <tr>\n",
       "      <th>1</th>\n",
       "      <td>1993-12-09 02:00:00</td>\n",
       "    </tr>\n",
       "    <tr>\n",
       "      <th>2</th>\n",
       "      <td>1993-12-09 03:00:00</td>\n",
       "    </tr>\n",
       "    <tr>\n",
       "      <th>3</th>\n",
       "      <td>1993-12-09 04:00:00</td>\n",
       "    </tr>\n",
       "    <tr>\n",
       "      <th>4</th>\n",
       "      <td>1993-12-09 05:00:00</td>\n",
       "    </tr>\n",
       "  </tbody>\n",
       "</table>\n",
       "</div>"
      ],
      "text/plain": [
       "                Dates\n",
       "0 1993-12-09 01:00:00\n",
       "1 1993-12-09 02:00:00\n",
       "2 1993-12-09 03:00:00\n",
       "3 1993-12-09 04:00:00\n",
       "4 1993-12-09 05:00:00"
      ]
     },
     "execution_count": 4,
     "metadata": {},
     "output_type": "execute_result"
    }
   ],
   "source": [
    "x = datetime.datetime(1993, 12, 9, 0, 0)\n",
    "\n",
    "simulated_dates = []\n",
    "\n",
    "for i in range(2000000):\n",
    "    x += datetime.timedelta(minutes=60)\n",
    "    simulated_dates.append(x)\n",
    "\n",
    "df = pd.DataFrame(simulated_dates, columns=['Dates'])\n",
    "\n",
    "print(df.shape)"
   ]
  },
  {
   "cell_type": "code",
   "execution_count": 12,
   "metadata": {},
   "outputs": [
    {
     "name": "stdout",
     "output_type": "stream",
     "text": [
      "Without multiprocessing: 15.934876680374146 seconds\n"
     ]
    }
   ],
   "source": [
    "# Function to add an hour to a given chunk of data\n",
    "def add_hour(dates):\n",
    "    return dates + pd.Timedelta(hours=1)\n",
    "\n",
    "# Without multiprocessing\n",
    "start_time = time.time()\n",
    "df['Dates'] = df['Dates'].apply(add_hour)\n",
    "end_time = time.time()\n",
    "\n",
    "print(\"Without multiprocessing:\", end_time - start_time, \"seconds\")"
   ]
  },
  {
   "cell_type": "code",
   "execution_count": 13,
   "metadata": {},
   "outputs": [
    {
     "name": "stdout",
     "output_type": "stream",
     "text": [
      "With multiprocessing: 0.1811535358428955 seconds\n"
     ]
    }
   ],
   "source": [
    "# With multiprocessing\n",
    "def process_chunk(chunk):\n",
    "    return add_hour(chunk)\n",
    "\n",
    "start_time = time.time()\n",
    "num_cores = mp.cpu_count()\n",
    "chunk_size = len(df) // num_cores\n",
    "chunks = [df['Dates'][i:i+chunk_size] for i in range(0, len(df), chunk_size)]\n",
    "\n",
    "with mp.Pool(processes=num_cores) as pool:\n",
    "    df['Dates'] = pd.concat(pool.map(process_chunk, chunks))\n",
    "end_time = time.time()\n",
    "\n",
    "print(\"With multiprocessing:\", end_time - start_time, \"seconds\")\n"
   ]
  }
 ],
 "metadata": {
  "kernelspec": {
   "display_name": "dtu_env",
   "language": "python",
   "name": "python3"
  },
  "language_info": {
   "codemirror_mode": {
    "name": "ipython",
    "version": 3
   },
   "file_extension": ".py",
   "mimetype": "text/x-python",
   "name": "python",
   "nbconvert_exporter": "python",
   "pygments_lexer": "ipython3",
   "version": "3.10.12"
  }
 },
 "nbformat": 4,
 "nbformat_minor": 2
}
